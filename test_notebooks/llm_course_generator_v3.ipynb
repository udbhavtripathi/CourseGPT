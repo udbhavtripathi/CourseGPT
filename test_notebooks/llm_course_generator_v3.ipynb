{
 "cells": [
  {
   "cell_type": "code",
   "execution_count": null,
   "metadata": {},
   "outputs": [],
   "source": [
    "from dotenv import load_dotenv\n",
    "# import streamlit as st\n",
    "# from PyPDF2 import PdfReader\n",
    "# from langchain.text_splitter import CharacterTextSplitter\n",
    "# from langchain.embeddings.openai import OpenAIEmbeddings\n",
    "# from langchain.vectorstores import FAISS\n",
    "# from langchain.chains.question_answering import load_qa_chain\n",
    "from langchain.llms import OpenAI\n",
    "# from langchain.callbacks import get_openai_callback"
   ]
  },
  {
   "cell_type": "code",
   "execution_count": null,
   "metadata": {},
   "outputs": [],
   "source": [
    "load_dotenv()"
   ]
  },
  {
   "cell_type": "code",
   "execution_count": null,
   "metadata": {},
   "outputs": [],
   "source": [
    "from langchain.prompts import PromptTemplate\n",
    "from langchain.llms import OpenAI\n",
    "from langchain.chains import LLMChain\n",
    "from langchain.chat_models import ChatOpenAI\n",
    "\n",
    "\n",
    "llm = ChatOpenAI(temperature=0.9,request_timeout=300)\n",
    "\n",
    "    ################################## GET MODULES ##############################################################\n",
    "    ################# chain1: Topic name(only 5 for now)\n",
    "\n",
    "module_prompt = PromptTemplate(\n",
    "    input_variables=[\"topic\", \"application\", \"module_number\", \"level_dropdown\"],\n",
    "    template=\"You want to create a {module_number} module {level_dropdown} level personalized course on {topic} which i will use for {application}. Let's start by designing the module structure and subtopics to include in each module. Write in this format: Module 1 heading then subtopic 1 heading ,subtopic 2 heading,subtopic 3 heading......... give numbering to module and subtopics.Don't write any NOTE in the end just write module name and subtopic name. Give the output in JSON format with key value pairs. The format will be Module name then its heading as value then subkey would be all the subtopics in that module and their heading as values.\"\n",
    ")\n",
    "\n",
    "\n",
    "\n",
    "module_chain = LLMChain(llm=llm, prompt=module_prompt)\n",
    "\n",
    "module_output =  module_chain.predict(topic='Large language model', application = 'academic exam', module_number = 2, level_dropdown= 'beginner')\n",
    "\n"
   ]
  },
  {
   "cell_type": "code",
   "execution_count": null,
   "metadata": {},
   "outputs": [],
   "source": [
    "print(module_output)"
   ]
  },
  {
   "cell_type": "code",
   "execution_count": null,
   "metadata": {},
   "outputs": [],
   "source": [
    "\n",
    "# Parse the JSON data\n",
    "data = json.loads(module_output)\n",
    "\n",
    "# Access Module 1 and Subtopic 3\n",
    "module_1 = data[\"Module 1\"]\n",
    "subtopic_3 = module_1[\"Subtopics\"][\"3\"]\n",
    "\n",
    "# Print the results\n",
    "print(\"Module 1:\", module_1[\"Heading\"])\n",
    "print(\"Subtopic 3:\", subtopic_3)\n"
   ]
  },
  {
   "cell_type": "code",
   "execution_count": null,
   "metadata": {},
   "outputs": [],
   "source": [
    "#save json data\n",
    "with open(\"module_output.json\", \"w\") as file:\n",
    "    file.write(module_output)\n"
   ]
  },
  {
   "attachments": {},
   "cell_type": "markdown",
   "metadata": {},
   "source": [
    "create content for each module and subtopic"
   ]
  },
  {
   "cell_type": "code",
   "execution_count": null,
   "metadata": {},
   "outputs": [],
   "source": [
    "# print(module_output)\n",
    "\n",
    "data = json.loads(module_output)\n",
    "\n",
    "for x in data.values():\n",
    "    print(x)"
   ]
  },
  {
   "cell_type": "code",
   "execution_count": null,
   "metadata": {},
   "outputs": [],
   "source": [
    "import json\n",
    "import concurrent.futures\n",
    "\n",
    "# Define the content_prompt template\n",
    "content_prompt = PromptTemplate(\n",
    "    input_variables=[\"subtopic\"],\n",
    "    template=\"Give me a detailed description of {subtopic}. Write in bulleted form and make sure to use code examples so that any beginner-level student can understand.\"\n",
    ")\n",
    "\n",
    "# Create the LLMChain instance\n",
    "content_chain = LLMChain(llm=llm, prompt=content_prompt)\n",
    "\n",
    "data = json.loads(module_output)\n",
    "\n",
    "# Function to generate content for a subtopic\n",
    "def generate_content(subtopic):\n",
    "    content = content_chain.predict(subtopic=subtopic)\n",
    "    return {\n",
    "        \"title\": subtopic,\n",
    "        \"content\": content\n",
    "    }\n",
    "\n",
    "# Generate contents for each subtopic in every module using ThreadPoolExecutor\n",
    "with concurrent.futures.ThreadPoolExecutor() as executor:\n",
    "    for module in data.values():\n",
    "        subtopics = module[\"Subtopics\"]\n",
    "        # Create a list of futures for content generation\n",
    "        futures = [executor.submit(generate_content, subtopic) for subtopic in subtopics.values()]\n",
    "        # Retrieve the results from the futures and update the subtopics\n",
    "        for future, (subtopic_number, _) in zip(futures, subtopics.items()):\n",
    "            content = future.result()\n",
    "            subtopics[subtopic_number] = content\n",
    "\n",
    "# Save the updated module_output to a JSON file\n",
    "with open(\"module_output.json\", \"w\") as file:\n",
    "    json.dump(data, file, indent=4)\n",
    "\n",
    "# Print the updated module_output\n",
    "print(json.dumps(data, indent=4))\n"
   ]
  },
  {
   "attachments": {},
   "cell_type": "markdown",
   "metadata": {},
   "source": [
    "split content in slidee"
   ]
  },
  {
   "cell_type": "code",
   "execution_count": null,
   "metadata": {},
   "outputs": [],
   "source": [
    "import json\n",
    "import concurrent.futures\n",
    "\n",
    "# Define the content_prompt template\n",
    "content_prompt = PromptTemplate(\n",
    "    input_variables=[\"subtopic\"],\n",
    "    template=\"Give me a detailed description of {subtopic}. Write in bulleted form and make sure to use code examples so that any beginner-level student can understand.\"\n",
    ")\n",
    "\n",
    "slide_prompt = PromptTemplate(\n",
    "    input_variables=[\"content\"],\n",
    "    template=\"distribute the content in {content} to N number of slides intelligently. the contents in the slides must be extracted from {contents} and please don't write heading on what can we include in the slides , just take the content from {content} and distribute them.\"\n",
    ")\n",
    "\n",
    "\n",
    "\n",
    "# Create the LLMChain instance for splitting content\n",
    "split_chain = LLMChain(llm=llm, prompt = slide_prompt )\n",
    "\n",
    "# Create the LLMChain instance for generating content\n",
    "content_chain = LLMChain(llm=llm, prompt=content_prompt)\n",
    "\n",
    "data = json.loads(module_output)\n",
    "\n",
    "\n",
    "# Function to generate content for a subtopic\n",
    "def generate_content(subtopic):\n",
    "    # Generate the full content using content_chain\n",
    "    full_content = content_chain.predict(subtopic=subtopic)\n",
    "    # Split the full content into multiple parts\n",
    "    splitted_content = split_chain.predict(content = full_content)\n",
    "    return {\n",
    "        \"title\": subtopic,\n",
    "        \"full content\": full_content,\n",
    "        \"split content\": splitted_content\n",
    "\n",
    "    }\n",
    "\n",
    "# Generate contents for each subtopic in every module using ThreadPoolExecutor\n",
    "with concurrent.futures.ThreadPoolExecutor() as executor:\n",
    "    for module in data.values():\n",
    "        subtopics = module[\"Subtopics\"]\n",
    "        # Create a list of futures for content generation\n",
    "        futures = [executor.submit(generate_content, subtopic) for subtopic in subtopics.values()]\n",
    "        # Retrieve the results from the futures and update the subtopics\n",
    "        for future, (subtopic_number, _) in zip(futures, subtopics.items()):\n",
    "            content = future.result()\n",
    "            subtopics[subtopic_number] = content\n",
    "\n",
    "# Save the updated module_output to a JSON file\n",
    "with open(\"module_output.json\", \"w\") as file:\n",
    "    json.dump(data, file, indent=4)\n",
    "\n",
    "# Print the updated module_output\n",
    "print(json.dumps(data, indent=4))\n"
   ]
  },
  {
   "cell_type": "code",
   "execution_count": null,
   "metadata": {},
   "outputs": [],
   "source": []
  }
 ],
 "metadata": {
  "language_info": {
   "name": "python"
  },
  "orig_nbformat": 4
 },
 "nbformat": 4,
 "nbformat_minor": 2
}
