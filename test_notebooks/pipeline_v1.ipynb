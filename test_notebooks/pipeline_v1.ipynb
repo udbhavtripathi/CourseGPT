{
 "cells": [
  {
   "cell_type": "code",
   "execution_count": null,
   "metadata": {},
   "outputs": [],
   "source": []
  },
  {
   "cell_type": "code",
   "execution_count": 1,
   "metadata": {},
   "outputs": [
    {
     "data": {
      "text/plain": [
       "True"
      ]
     },
     "execution_count": 1,
     "metadata": {},
     "output_type": "execute_result"
    }
   ],
   "source": [
    "\n",
    "import streamlit as st\n",
    "from langchain.prompts import PromptTemplate\n",
    "from langchain.llms import OpenAI\n",
    "from langchain.chains import LLMChain\n",
    "from langchain.chat_models import ChatOpenAI\n",
    "import concurrent.futures\n",
    "# from course_maker import course_maker\n",
    "from course_maker_multi import course_maker\n",
    "from dotenv import load_dotenv\n",
    "from course_JSON import course_save_JSON\n",
    "import json\n",
    "\n",
    "load_dotenv()"
   ]
  },
  {
   "cell_type": "code",
   "execution_count": 2,
   "metadata": {},
   "outputs": [
    {
     "name": "stdout",
     "output_type": "stream",
     "text": [
      "Modules created: ['1. Data Manipulation with Pandas', '2. Data Analysis with Pandas']\n",
      "Subtopics created: ['1. Introduction to Pandas DataFrames\\n2. Basic Data Cleaning Techniques in Pandas', '1. Introduction to Pandas: Understanding the Basics of Data Manipulation\\n2. Data Wrangling with Pandas: Cleaning and Transforming Data for Analysis']\n"
     ]
    }
   ],
   "source": [
    "\n",
    "1\n",
    "topic_name = 'pandas'\n",
    "#2\n",
    "num_days = 7\n",
    "#3\n",
    "application = 'data science'\n",
    "#4\n",
    "assignment_options = {'yes', 'no'}\n",
    "assignment_dropdown =  'yes'\n",
    "#5\n",
    "level_options = ['Beginner', 'Intermediate', 'Advanced']\n",
    "level_dropdown = 'Beginner'\n",
    "\n",
    "module_output, subtopic_outputs_list, contents_output_list, scripts_output_list, ppt_output_list,*module_points = course_maker(\n",
    "      topic_name, num_days, application, level_dropdown)\n",
    "            \n",
    "course_full_v2 = course_save_JSON(module_output, subtopic_outputs_list, contents_output_list, scripts_output_list,ppt_output_list, *module_points)\n",
    "        \n",
    "#save json data\n",
    "with open(\"course_full_v2.json\", \"w\") as file:\n",
    "    file.write(course_full_v2)\n",
    "\n",
    "\n",
    "\n",
    "\n"
   ]
  },
  {
   "attachments": {},
   "cell_type": "markdown",
   "metadata": {},
   "source": [
    "google connector"
   ]
  },
  {
   "cell_type": "code",
   "execution_count": 4,
   "metadata": {},
   "outputs": [],
   "source": [
    "# pip install --upgrade google-api-python-client google-auth-httplib2 google-auth-oauthlib"
   ]
  },
  {
   "cell_type": "code",
   "execution_count": 6,
   "metadata": {},
   "outputs": [
    {
     "ename": "OSError",
     "evalue": "[Errno 22] Invalid argument: 'credentials.json'",
     "output_type": "error",
     "traceback": [
      "\u001b[1;31m---------------------------------------------------------------------------\u001b[0m",
      "\u001b[1;31mOSError\u001b[0m                                   Traceback (most recent call last)",
      "Cell \u001b[1;32mIn[6], line 57\u001b[0m\n\u001b[0;32m     53\u001b[0m         \u001b[39mprint\u001b[39m(err)\n\u001b[0;32m     56\u001b[0m \u001b[39mif\u001b[39;00m \u001b[39m__name__\u001b[39m \u001b[39m==\u001b[39m \u001b[39m'\u001b[39m\u001b[39m__main__\u001b[39m\u001b[39m'\u001b[39m:\n\u001b[1;32m---> 57\u001b[0m     main()\n",
      "Cell \u001b[1;32mIn[6], line 33\u001b[0m, in \u001b[0;36mmain\u001b[1;34m()\u001b[0m\n\u001b[0;32m     31\u001b[0m     creds\u001b[39m.\u001b[39mrefresh(Request())\n\u001b[0;32m     32\u001b[0m \u001b[39melse\u001b[39;00m:\n\u001b[1;32m---> 33\u001b[0m     flow \u001b[39m=\u001b[39m InstalledAppFlow\u001b[39m.\u001b[39;49mfrom_client_secrets_file(\n\u001b[0;32m     34\u001b[0m         \u001b[39m'\u001b[39;49m\u001b[39mcredentials.json\u001b[39;49m\u001b[39m'\u001b[39;49m, SCOPES)\n\u001b[0;32m     35\u001b[0m     creds \u001b[39m=\u001b[39m flow\u001b[39m.\u001b[39mrun_local_server(port\u001b[39m=\u001b[39m\u001b[39m0\u001b[39m)\n\u001b[0;32m     36\u001b[0m \u001b[39m# Save the credentials for the next run\u001b[39;00m\n",
      "File \u001b[1;32mc:\\Users\\udbha\\anaconda3\\envs\\langchain_env\\Lib\\site-packages\\google_auth_oauthlib\\flow.py:198\u001b[0m, in \u001b[0;36mFlow.from_client_secrets_file\u001b[1;34m(cls, client_secrets_file, scopes, **kwargs)\u001b[0m\n\u001b[0;32m    183\u001b[0m \u001b[39m@classmethod\u001b[39m\n\u001b[0;32m    184\u001b[0m \u001b[39mdef\u001b[39;00m \u001b[39mfrom_client_secrets_file\u001b[39m(\u001b[39mcls\u001b[39m, client_secrets_file, scopes, \u001b[39m*\u001b[39m\u001b[39m*\u001b[39mkwargs):\n\u001b[0;32m    185\u001b[0m \u001b[39m    \u001b[39m\u001b[39m\"\"\"Creates a :class:`Flow` instance from a Google client secrets file.\u001b[39;00m\n\u001b[0;32m    186\u001b[0m \n\u001b[0;32m    187\u001b[0m \u001b[39m    Args:\u001b[39;00m\n\u001b[1;32m   (...)\u001b[0m\n\u001b[0;32m    196\u001b[0m \u001b[39m        Flow: The constructed Flow instance.\u001b[39;00m\n\u001b[0;32m    197\u001b[0m \u001b[39m    \"\"\"\u001b[39;00m\n\u001b[1;32m--> 198\u001b[0m     \u001b[39mwith\u001b[39;00m \u001b[39mopen\u001b[39;49m(client_secrets_file, \u001b[39m\"\u001b[39;49m\u001b[39mr\u001b[39;49m\u001b[39m\"\u001b[39;49m) \u001b[39mas\u001b[39;00m json_file:\n\u001b[0;32m    199\u001b[0m         client_config \u001b[39m=\u001b[39m json\u001b[39m.\u001b[39mload(json_file)\n\u001b[0;32m    201\u001b[0m     \u001b[39mreturn\u001b[39;00m \u001b[39mcls\u001b[39m\u001b[39m.\u001b[39mfrom_client_config(client_config, scopes\u001b[39m=\u001b[39mscopes, \u001b[39m*\u001b[39m\u001b[39m*\u001b[39mkwargs)\n",
      "\u001b[1;31mOSError\u001b[0m: [Errno 22] Invalid argument: 'credentials.json'"
     ]
    }
   ],
   "source": [
    "from __future__ import print_function\n",
    "\n",
    "import os.path\n",
    "\n",
    "from google.auth.transport.requests import Request\n",
    "from google.oauth2.credentials import Credentials\n",
    "from google_auth_oauthlib.flow import InstalledAppFlow\n",
    "from googleapiclient.discovery import build\n",
    "from googleapiclient.errors import HttpError\n",
    "\n",
    "# If modifying these scopes, delete the file token.json.\n",
    "SCOPES = ['https://www.googleapis.com/auth/presentations.readonly']\n",
    "\n",
    "# The ID of a sample presentation.\n",
    "PRESENTATION_ID = '1EAYk18WDjIG-zp_0vLm3CsfQh_i8eXc67Jo2O9C6Vuc'\n",
    "\n",
    "\n",
    "def main():\n",
    "    \"\"\"Shows basic usage of the Slides API.\n",
    "    Prints the number of slides and elements in a sample presentation.\n",
    "    \"\"\"\n",
    "    creds = None\n",
    "    # The file token.json stores the user's access and refresh tokens, and is\n",
    "    # created automatically when the authorization flow completes for the first\n",
    "    # time.\n",
    "    if os.path.exists('token.json'):\n",
    "        creds = Credentials.from_authorized_user_file('token.json', SCOPES)\n",
    "    # If there are no (valid) credentials available, let the user log in.\n",
    "    if not creds or not creds.valid:\n",
    "        if creds and creds.expired and creds.refresh_token:\n",
    "            creds.refresh(Request())\n",
    "        else:\n",
    "            flow = InstalledAppFlow.from_client_secrets_file(\n",
    "                'credentials.json', SCOPES)\n",
    "            creds = flow.run_local_server(port=0)\n",
    "        # Save the credentials for the next run\n",
    "        with open('token.json', 'w') as token:\n",
    "            token.write(creds.to_json())\n",
    "\n",
    "    try:\n",
    "        service = build('slides', 'v1', credentials=creds)\n",
    "\n",
    "        # Call the Slides API\n",
    "        presentation = service.presentations().get(\n",
    "            presentationId=PRESENTATION_ID).execute()\n",
    "        slides = presentation.get('slides')\n",
    "\n",
    "        print('The presentation contains {} slides:'.format(len(slides)))\n",
    "        for i, slide in enumerate(slides):\n",
    "            print('- Slide #{} contains {} elements.'.format(\n",
    "                i + 1, len(slide.get('pageElements'))))\n",
    "    except HttpError as err:\n",
    "        print(err)\n",
    "\n",
    "\n",
    "if __name__ == '__main__':\n",
    "    main()"
   ]
  },
  {
   "cell_type": "code",
   "execution_count": null,
   "metadata": {},
   "outputs": [],
   "source": []
  },
  {
   "cell_type": "code",
   "execution_count": null,
   "metadata": {},
   "outputs": [],
   "source": []
  },
  {
   "cell_type": "code",
   "execution_count": null,
   "metadata": {},
   "outputs": [],
   "source": []
  },
  {
   "cell_type": "code",
   "execution_count": null,
   "metadata": {},
   "outputs": [],
   "source": []
  },
  {
   "cell_type": "code",
   "execution_count": null,
   "metadata": {},
   "outputs": [],
   "source": []
  }
 ],
 "metadata": {
  "kernelspec": {
   "display_name": "langchain_env",
   "language": "python",
   "name": "python3"
  },
  "language_info": {
   "codemirror_mode": {
    "name": "ipython",
    "version": 3
   },
   "file_extension": ".py",
   "mimetype": "text/x-python",
   "name": "python",
   "nbconvert_exporter": "python",
   "pygments_lexer": "ipython3",
   "version": "3.11.3"
  },
  "orig_nbformat": 4
 },
 "nbformat": 4,
 "nbformat_minor": 2
}
