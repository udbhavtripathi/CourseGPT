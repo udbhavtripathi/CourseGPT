{
 "cells": [
  {
   "cell_type": "code",
   "execution_count": 1,
   "metadata": {},
   "outputs": [],
   "source": [
    "from langchain.prompts import PromptTemplate\n",
    "from langchain.llms import OpenAI\n",
    "from langchain.chains import LLMChain\n",
    "from langchain.chat_models import ChatOpenAI\n",
    "import concurrent.futures\n",
    "import multiprocessing\n",
    "from dotenv import load_dotenv"
   ]
  },
  {
   "cell_type": "code",
   "execution_count": 2,
   "metadata": {},
   "outputs": [
    {
     "data": {
      "text/plain": [
       "True"
      ]
     },
     "execution_count": 2,
     "metadata": {},
     "output_type": "execute_result"
    }
   ],
   "source": [
    "load_dotenv()"
   ]
  },
  {
   "cell_type": "code",
   "execution_count": null,
   "metadata": {},
   "outputs": [],
   "source": []
  },
  {
   "cell_type": "code",
   "execution_count": 3,
   "metadata": {},
   "outputs": [],
   "source": [
    "def generate_subtopics(subtopic_chain, level_dropdown,module,num_subtopics ):\n",
    "    return subtopic_chain.predict(module=module, level_dropdown=level_dropdown, num_subtopics = num_subtopics)\n",
    "\n",
    "def generate_contents_and_scripts(content_chain, subtopic,level_dropdown):\n",
    "    content_output = content_chain.predict(subtopic=subtopic, level_dropdown=level_dropdown)\n",
    "\n",
    "    return content_output\n",
    "\n",
    "def course_maker(topic_name, application,num_modules, level_dropdown,num_subtopics):\n",
    "    llm = ChatOpenAI(temperature=0.9, request_timeout=300)\n",
    "    # llm = OpenAI(model_name = \"gpt-3.5-turbo\")\n",
    "\n",
    "    module_prompt = PromptTemplate(\n",
    "        input_variables=[\"topic\", \"application\", \"num_modules\"],\n",
    "        template=\"You're structuring a course on '{topic}' with an emphasis on its application in '{application}'. Please provide {num_modules} module name(s) that would be suitable for this course. Remember to give {num_modules} headings without any detailed descriptions, while keeping in mind the specified number of modules.\")\n",
    "\n",
    "\n",
    "    module_chain = LLMChain(llm=llm, prompt=module_prompt)\n",
    "\n",
    "    module_output = module_chain.predict(topic=topic_name, application=application,num_modules = num_modules)\n",
    "\n",
    "    module_points = module_output.split('\\n')\n",
    "    print(\"Modules created:\", module_points)\n",
    "\n",
    "    \n",
    "    \n",
    "    subtopic_prompt = PromptTemplate(\n",
    "    input_variables=[\"module\", \"level_dropdown\", \"num_subtopics\"],\n",
    "    template=\"You are creating a course module on '{module}' at the '{level_dropdown}' level. Please provide {num_subtopics} subtopics that you would include in this module. Make sure to give concise and relevant headings for each subtopic, focusing on the specified number of {num_subtopics} subtopics only. Avoid exceeding the requested number.\")\n",
    "\n",
    "\n",
    "    subtopic_chain = LLMChain(llm=llm, prompt=subtopic_prompt)\n",
    "\n",
    "    subtopic_outputs_list = []\n",
    "    with concurrent.futures.ThreadPoolExecutor() as executor:\n",
    "        futures = [executor.submit(generate_subtopics, subtopic_chain,  level_dropdown,module,num_subtopics) for module in module_points]\n",
    "        for future in concurrent.futures.as_completed(futures):\n",
    "            subtopic_output = future.result()\n",
    "            subtopic_outputs_list.append(subtopic_output)\n",
    "\n",
    "    print(\"Subtopics created:\", subtopic_outputs_list)\n",
    "\n",
    "    content_prompt = PromptTemplate(\n",
    "        input_variables=[\"subtopic\", \"level_dropdown\"],\n",
    "        template=\"You're developing content for the '{subtopic}' section, aimed at the '{level_dropdown}' level. Write a comprehensive essay-style description of this subtopic, ensuring a deep exploration of the subject. Incorporate illustrative examples to enhance understanding.\")\n",
    "\n",
    "\n",
    "    content_chain = LLMChain(llm=llm, prompt=content_prompt)\n",
    "\n",
    "\n",
    "    contents_output_list = []\n",
    "\n",
    "\n",
    "    with multiprocessing.Pool() as pool:\n",
    "        results = []\n",
    "        for subtopics in subtopic_outputs_list:\n",
    "            subtopic_points = subtopics.split('\\n')\n",
    "            for subtopic in subtopic_points:\n",
    "                results.append(pool.apply_async(generate_contents_and_scripts, (content_chain, subtopic,level_dropdown)))\n",
    "        \n",
    "        for result in results:\n",
    "            content_output = result.get()\n",
    "            contents_output_list.append(content_output)\n",
    " \n",
    "\n",
    "\n",
    "\n",
    "    return module_output, subtopic_outputs_list, contents_output_list, *module_points\n"
   ]
  },
  {
   "cell_type": "code",
   "execution_count": null,
   "metadata": {},
   "outputs": [],
   "source": []
  },
  {
   "cell_type": "code",
   "execution_count": 4,
   "metadata": {},
   "outputs": [],
   "source": [
    "topic_name = 'python'\n",
    "application = 'data'\n",
    "num_modules = 1\n",
    "level_dropdown = 'Beginner'\n",
    "num_subtopics = 1"
   ]
  },
  {
   "cell_type": "code",
   "execution_count": 5,
   "metadata": {},
   "outputs": [
    {
     "name": "stdout",
     "output_type": "stream",
     "text": [
      "Modules created: ['1. Introduction to Python for Data Analysis']\n",
      "Subtopics created: ['1. Introduction to Python and Data Analysis']\n"
     ]
    }
   ],
   "source": [
    "module_output, subtopic_outputs_list, contents_output_list, *module_points = course_maker(topic_name, application, num_modules,level_dropdown,num_subtopics)\n"
   ]
  },
  {
   "cell_type": "code",
   "execution_count": null,
   "metadata": {},
   "outputs": [],
   "source": []
  }
 ],
 "metadata": {
  "kernelspec": {
   "display_name": "langchain_env",
   "language": "python",
   "name": "python3"
  },
  "language_info": {
   "codemirror_mode": {
    "name": "ipython",
    "version": 3
   },
   "file_extension": ".py",
   "mimetype": "text/x-python",
   "name": "python",
   "nbconvert_exporter": "python",
   "pygments_lexer": "ipython3",
   "version": "3.11.3"
  },
  "orig_nbformat": 4
 },
 "nbformat": 4,
 "nbformat_minor": 2
}
